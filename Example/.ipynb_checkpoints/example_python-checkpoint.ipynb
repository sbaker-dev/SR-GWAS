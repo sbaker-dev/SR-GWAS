{
 "cells": [
  {
   "cell_type": "markdown",
   "metadata": {
    "collapsed": true,
    "pycharm": {
     "is_executing": false,
     "name": "#%% md\n"
    }
   },
   "source": [
    "### Purpose\n",
    "\n",
    "This is the python example to show how snps behave differently depending on the residual model. "
   ]
  },
  {
   "cell_type": "code",
   "execution_count": 9,
   "metadata": {
    "pycharm": {
     "is_executing": false,
     "name": "#%%\n"
    }
   },
   "outputs": [
    {
     "name": "stdout",
     "output_type": "stream",
     "text": [
      "            IID        BMI  Gender   Age       PC1       PC2       PC3  \\\n",
      "0      sample_0  19.717868       1  1948 -0.486175 -0.244768  1.264372   \n",
      "1      sample_1  27.719200       1  1947  0.039375 -0.563646 -0.086521   \n",
      "2      sample_2  26.721164       0  1966  0.063110  0.123168  0.123920   \n",
      "3      sample_3  17.668229       1  1945  1.151507 -0.826457 -0.761967   \n",
      "4      sample_4  16.813296       1  1939  0.419127  0.522641  0.205381   \n",
      "..          ...        ...     ...   ...       ...       ...       ...   \n",
      "478  sample_478  29.449249       1  1947  1.683839 -0.230752  1.138786   \n",
      "479  sample_479  25.634332       1  1942  0.134313 -0.335876  1.233824   \n",
      "480  sample_480  23.240923       0  1952 -0.882881  0.901089  1.342438   \n",
      "481  sample_481  19.545741       0  1966 -1.652558  1.426712  1.182911   \n",
      "482  sample_482  24.200931       0  1936  0.632738 -1.544808 -1.423836   \n",
      "\n",
      "          PC4       PC5       PC6  ...  rs123  rs234  rs345  rs456  rs567  \\\n",
      "0   -0.272320 -1.454021 -0.998124  ...      0      2      1      0      2   \n",
      "1    1.563107  0.651951  1.790098  ...      0      2      1      1      0   \n",
      "2   -1.397953  1.603920  0.845181  ...      2      2      1      0      0   \n",
      "3    0.928594 -1.669755 -0.887168  ...      1      2      2      2      2   \n",
      "4    0.562943 -0.926672  0.480099  ...      1      2      2      2      0   \n",
      "..        ...       ...       ...  ...    ...    ...    ...    ...    ...   \n",
      "478 -1.297578 -0.279471 -1.252250  ...      2      1      2      2      0   \n",
      "479  0.365778 -0.899277  0.716328  ...      2      0      2      2      2   \n",
      "480  0.344269 -1.652633 -0.221431  ...      1      1      1      1      0   \n",
      "481  0.756523  0.097207  1.235317  ...      0      0      1      2      2   \n",
      "482  1.312170 -0.159618 -1.431211  ...      1      0      1      1      2   \n",
      "\n",
      "     rs678  rs789  rs8910  rs91011  Constant  \n",
      "0        0      1       1        0         1  \n",
      "1        2      0       1        2         1  \n",
      "2        0      1       0        0         1  \n",
      "3        0      2       2        1         1  \n",
      "4        0      1       2        0         1  \n",
      "..     ...    ...     ...      ...       ...  \n",
      "478      1      2       1        1         1  \n",
      "479      1      1       1        2         1  \n",
      "480      1      0       0        2         1  \n",
      "481      1      2       1        1         1  \n",
      "482      0      0       0        0         1  \n",
      "\n",
      "[483 rows x 25 columns]\n",
      "Loaded Environment 10:18\n"
     ]
    }
   ],
   "source": [
    "from miscSupports import terminal_time\n",
    "import statsmodels.api as sm\n",
    "from pathlib import Path\n",
    "import pandas as pd\n",
    "\n",
    "# Setup working directory\n",
    "working_directory = Path(Path().resolve(), \"example_python.ipynb\")\n",
    "if not working_directory.exists():\n",
    "    print(\"WARNING: PATH TO WORKING DIRECTORY COULD NOT BE ESTABLISHED\")\n",
    "else:\n",
    "    working_directory = working_directory.parent\n",
    "\n",
    "# Covariant list    \n",
    "covariant_list = [\"Gender\", \"Age\", \"PC1\", \"PC2\", \"PC3\", \"PC4\", \"PC5\", \"PC6\", \"PC7\", \"PC8\", \"PC9\", \"PC10\", \"Constant\"]\n",
    "\n",
    "# Setup the database\n",
    "database = pd.read_csv(Path(working_directory, \"Data\", \"CovariantSnp.csv\"))\n",
    "database[\"Constant\"] = [1 for i in range(len(database))]\n",
    "print(database)\n",
    "print(f\"Loaded Environment {terminal_time()}\")"
   ]
  },
  {
   "cell_type": "markdown",
   "metadata": {
    "pycharm": {
     "name": "#%% md\n"
    }
   },
   "source": [
    "### Model 1\n",
    "\n",
    "regress BMI on G, sex, YoB, PCs"
   ]
  },
  {
   "cell_type": "code",
   "execution_count": 10,
   "metadata": {
    "pycharm": {
     "is_executing": false,
     "name": "#%%\n"
    }
   },
   "outputs": [
    {
     "name": "stdout",
     "output_type": "stream",
     "text": [
      "                            OLS Regression Results                            \n",
      "==============================================================================\n",
      "Dep. Variable:                    BMI   R-squared:                       0.022\n",
      "Model:                            OLS   Adj. R-squared:                 -0.005\n",
      "Method:                 Least Squares   F-statistic:                    0.7981\n",
      "Date:                Mon, 17 May 2021   Prob (F-statistic):              0.662\n",
      "Time:                        10:18:42   Log-Likelihood:                -1428.5\n",
      "No. Observations:                 483   AIC:                             2885.\n",
      "Df Residuals:                     469   BIC:                             2944.\n",
      "Df Model:                          13                                         \n",
      "Covariance Type:            nonrobust                                         \n",
      "==============================================================================\n",
      "                 coef    std err          t      P>|t|      [0.025      0.975]\n",
      "------------------------------------------------------------------------------\n",
      "rs012          0.2277      0.269      0.845      0.398      -0.302       0.757\n",
      "Gender         0.1336      0.437      0.306      0.760      -0.725       0.993\n",
      "Age            0.0271      0.020      1.348      0.178      -0.012       0.067\n",
      "PC1           -0.1438      0.219     -0.658      0.511      -0.573       0.286\n",
      "PC2            0.2133      0.218      0.980      0.328      -0.214       0.641\n",
      "PC3           -0.1790      0.219     -0.816      0.415      -0.610       0.252\n",
      "PC4            0.1712      0.217      0.789      0.430      -0.255       0.597\n",
      "PC5            0.2016      0.218      0.925      0.356      -0.227       0.630\n",
      "PC6            0.1648      0.219      0.751      0.453      -0.266       0.596\n",
      "PC7            0.3308      0.219      1.514      0.131      -0.099       0.760\n",
      "PC8            0.0273      0.217      0.126      0.900      -0.399       0.454\n",
      "PC9           -0.0096      0.217     -0.044      0.965      -0.437       0.418\n",
      "PC10           0.0579      0.219      0.264      0.792      -0.373       0.489\n",
      "Constant     -30.7012     39.201     -0.783      0.434    -107.733      46.331\n",
      "==============================================================================\n",
      "Omnibus:                      342.505   Durbin-Watson:                   2.045\n",
      "Prob(Omnibus):                  0.000   Jarque-Bera (JB):               29.806\n",
      "Skew:                           0.001   Prob(JB):                     3.37e-07\n",
      "Kurtosis:                       1.783   Cond. No.                     3.56e+05\n",
      "==============================================================================\n",
      "\n",
      "Notes:\n",
      "[1] Standard Errors assume that the covariance matrix of the errors is correctly specified.\n",
      "[2] The condition number is large, 3.56e+05. This might indicate that there are\n",
      "strong multicollinearity or other numerical problems.\n"
     ]
    }
   ],
   "source": [
    "\n",
    "model = sm.OLS(database[\"BMI\"], database[[\"rs012\"] + covariant_list], missing=\"drop\").fit()\n",
    "\n",
    "print(model.summary())"
   ]
  },
  {
   "cell_type": "markdown",
   "metadata": {},
   "source": [
    "### Model 2\n",
    "\n",
    "Residualise BMI and then regress residualised BMI on G"
   ]
  },
  {
   "cell_type": "code",
   "execution_count": 14,
   "metadata": {
    "pycharm": {
     "is_executing": false,
     "name": "#%%\n"
    }
   },
   "outputs": [
    {
     "name": "stdout",
     "output_type": "stream",
     "text": [
      "0     -2.210700\n",
      "1      4.913190\n",
      "2      4.238063\n",
      "3     -4.548452\n",
      "4     -5.640518\n",
      "         ...   \n",
      "478    8.275527\n",
      "479    4.045467\n",
      "480    1.342997\n",
      "481   -3.569356\n",
      "482    2.283283\n",
      "Length: 483, dtype: float64\n",
      "                            OLS Regression Results                            \n",
      "==============================================================================\n",
      "Dep. Variable:                      y   R-squared:                       0.001\n",
      "Model:                            OLS   Adj. R-squared:                 -0.001\n",
      "Method:                 Least Squares   F-statistic:                    0.7106\n",
      "Date:                Mon, 17 May 2021   Prob (F-statistic):              0.400\n",
      "Time:                        10:21:41   Log-Likelihood:                -1428.6\n",
      "No. Observations:                 483   AIC:                             2861.\n",
      "Df Residuals:                     481   BIC:                             2869.\n",
      "Df Model:                           1                                         \n",
      "Covariance Type:            nonrobust                                         \n",
      "==============================================================================\n",
      "                 coef    std err          t      P>|t|      [0.025      0.975]\n",
      "------------------------------------------------------------------------------\n",
      "rs012          0.2209      0.262      0.843      0.400      -0.294       0.736\n",
      "Constant      -0.2085      0.326     -0.640      0.523      -0.849       0.432\n",
      "==============================================================================\n",
      "Omnibus:                      342.420   Durbin-Watson:                   2.046\n",
      "Prob(Omnibus):                  0.000   Jarque-Bera (JB):               29.805\n",
      "Skew:                           0.001   Prob(JB):                     3.37e-07\n",
      "Kurtosis:                       1.783   Cond. No.                         2.78\n",
      "==============================================================================\n",
      "\n",
      "Notes:\n",
      "[1] Standard Errors assume that the covariance matrix of the errors is correctly specified.\n"
     ]
    }
   ],
   "source": [
    "res = sm.OLS(database[\"BMI\"], database[covariant_list], missing=\"drop\").fit()\n",
    "print(res.resid)\n",
    "\n",
    "model = sm.OLS(res.resid, database[[\"rs012\", \"Constant\"]]).fit()\n",
    "print(model.summary())"
   ]
  },
  {
   "cell_type": "markdown",
   "metadata": {
    "pycharm": {
     "name": "#%% md\n"
    }
   },
   "source": [
    "### Model 3\n",
    "Residualise G and then regress BMI on residualised G"
   ]
  },
  {
   "cell_type": "code",
   "execution_count": 24,
   "metadata": {
    "pycharm": {
     "is_executing": false,
     "name": "#%%\n"
    }
   },
   "outputs": [
    {
     "name": "stdout",
     "output_type": "stream",
     "text": [
      "        rs012  Constant\n",
      "0    1.175758         1\n",
      "1    0.100444         1\n",
      "2    0.020096         1\n",
      "3    0.058069         1\n",
      "4    0.117982         1\n",
      "..        ...       ...\n",
      "478  0.939127         1\n",
      "479 -0.783326         1\n",
      "480 -0.738677         1\n",
      "481 -0.866035         1\n",
      "482  0.981525         1\n",
      "\n",
      "[483 rows x 2 columns]\n",
      "                            OLS Regression Results                            \n",
      "==============================================================================\n",
      "Dep. Variable:                    BMI   R-squared:                       0.001\n",
      "Model:                            OLS   Adj. R-squared:                 -0.001\n",
      "Method:                 Least Squares   F-statistic:                    0.7180\n",
      "Date:                Mon, 17 May 2021   Prob (F-statistic):              0.397\n",
      "Time:                        14:35:23   Log-Likelihood:                -1433.5\n",
      "No. Observations:                 483   AIC:                             2871.\n",
      "Df Residuals:                     481   BIC:                             2879.\n",
      "Df Model:                           1                                         \n",
      "Covariance Type:            nonrobust                                         \n",
      "==============================================================================\n",
      "                 coef    std err          t      P>|t|      [0.025      0.975]\n",
      "------------------------------------------------------------------------------\n",
      "rs012          0.2277      0.269      0.847      0.397      -0.300       0.756\n",
      "Constant      22.4101      0.215    104.431      0.000      21.988      22.832\n",
      "==============================================================================\n",
      "Omnibus:                      430.296   Durbin-Watson:                   2.016\n",
      "Prob(Omnibus):                  0.000   Jarque-Bera (JB):               31.254\n",
      "Skew:                          -0.014   Prob(JB):                     1.63e-07\n",
      "Kurtosis:                       1.754   Cond. No.                         1.25\n",
      "==============================================================================\n",
      "\n",
      "Notes:\n",
      "[1] Standard Errors assume that the covariance matrix of the errors is correctly specified.\n"
     ]
    }
   ],
   "source": [
    "g_res = sm.OLS(database[\"rs012\"], database[covariant_list + [\"Constant\"]], missing=\"drop\").fit()\n",
    "g_res = pd.concat([pd.DataFrame(g_res.resid, columns=[\"rs012\"]), database[\"Constant\"]], axis=1)\n",
    "\n",
    "print(g_res)\n",
    "# print(gres.resid)\n",
    "# \n",
    "model = sm.OLS(database[\"BMI\"], g_res, missing=\"drop\").fit()\n",
    "print(model.summary())\n"
   ]
  }
 ],
 "metadata": {
  "kernelspec": {
   "display_name": "Python 3",
   "language": "python",
   "name": "python3"
  },
  "language_info": {
   "codemirror_mode": {
    "name": "ipython",
    "version": 3
   },
   "file_extension": ".py",
   "mimetype": "text/x-python",
   "name": "python",
   "nbconvert_exporter": "python",
   "pygments_lexer": "ipython3",
   "version": "3.7.3"
  },
  "pycharm": {
   "stem_cell": {
    "cell_type": "raw",
    "metadata": {
     "collapsed": false
    },
    "source": []
   }
  }
 },
 "nbformat": 4,
 "nbformat_minor": 1
}
