{
 "cells": [
  {
   "cell_type": "code",
   "execution_count": 41,
   "metadata": {
    "collapsed": true
   },
   "outputs": [],
   "source": [
    "from csvObject import CsvObject, write_csv\n",
    "from miscSupports import terminal_time\n",
    "from pathlib import Path\n",
    "import numpy as np\n",
    "import pandas as pd\n",
    "\n",
    "construction_directory = r\"Z:\\UKB\\GeographicID\\Paper Data Extraction\\Construction Files\""
   ]
  },
  {
   "cell_type": "code",
   "execution_count": 12,
   "outputs": [
    {
     "name": "stdout",
     "output_type": "stream",
     "text": [
      "15:15\n"
     ]
    }
   ],
   "source": [
    "# Load the data into memory\n",
    "phenotypes = CsvObject(Path(construction_directory, \"MilkSkinHair.csv\"))\n",
    "pcs = CsvObject(Path(construction_directory, \"IEU_PCs_1_40.txt\"), file_headers=False)\n",
    "\n",
    "# Create a linker and gender lookup dict\n",
    "linker = {app: ieu for ieu, app in  CsvObject(Path(construction_directory, \"Linker.csv\")).row_data}\n",
    "gender_lookup = {row[0]: row[1] for row in CsvObject(Path(construction_directory, \"Gender.csv\")).row_data}\n",
    "print(terminal_time())"
   ],
   "metadata": {
    "collapsed": false,
    "pycharm": {
     "name": "#%%\n"
    }
   }
  },
  {
   "cell_type": "code",
   "execution_count": 22,
   "outputs": [
    {
     "name": "stdout",
     "output_type": "stream",
     "text": [
      "15:19\n"
     ]
    }
   ],
   "source": [
    "pc_dict = {row[1]: [r for r in row[2:] if r != \"\"] for row in pcs.row_data}\n",
    "print(terminal_time())"
   ],
   "metadata": {
    "collapsed": false,
    "pycharm": {
     "name": "#%%\n"
    }
   }
  },
  {
   "cell_type": "code",
   "execution_count": 28,
   "outputs": [
    {
     "name": "stdout",
     "output_type": "stream",
     "text": [
      "488265\n",
      "15:32\n"
     ]
    }
   ],
   "source": [
    "indexes = [1, 4, 7]\n",
    "phenotype_rows = []\n",
    "for row in phenotypes.row_data:\n",
    "    try:\n",
    "        phenotype_rows.append([linker[row[0]], linker[row[0]], gender_lookup[row[0]]] + [row[i] for i in indexes] + pc_dict[linker[row[0]]])\n",
    "    except KeyError:\n",
    "        pass\n",
    "print(len(phenotype_rows))\n",
    "\n",
    "write_csv(r\"Z:\\UKB\\GeographicID\\Paper Data Extraction\\SB_Papers\\SW_GWAS\\GWAScompare\", \"NoRes\",\n",
    "          [\"FID\", \"IID\", \"Gender\", \"SkinColour\", \"HairColour\", \"MilkConsumption\"] + [f\"PC{i}\" for i in range(1, 41)],\n",
    "          phenotype_rows)\n",
    "print(terminal_time())"
   ],
   "metadata": {
    "collapsed": false,
    "pycharm": {
     "name": "#%%\n"
    }
   }
  },
  {
   "cell_type": "code",
   "execution_count": 30,
   "outputs": [
    {
     "name": "stdout",
     "output_type": "stream",
     "text": [
      "15:57\n"
     ]
    }
   ],
   "source": [
    "with_residuals = pd.read_csv(r\"Z:\\UKB\\GeographicID\\Paper Data Extraction\\SB_Papers\\SW_GWAS\\GWAScompare\\Res.csv\")\n",
    "\n",
    "print(terminal_time())"
   ],
   "metadata": {
    "collapsed": false,
    "pycharm": {
     "name": "#%%\n"
    }
   }
  },
  {
   "cell_type": "markdown",
   "source": [
    "## Isolate the variables we want to run a GWAS specification on\n",
    "\n",
    "Here we isolate the variables that are covariants and our phenotypes"
   ],
   "metadata": {
    "collapsed": false
   }
  },
  {
   "cell_type": "code",
   "execution_count": 50,
   "outputs": [],
   "source": [
    "exposure_headers = list(with_residuals.columns[:8])\n",
    "covariant_headers = [\"fid\", \"iid\"] + list(with_residuals.columns[8:])"
   ],
   "metadata": {
    "collapsed": false,
    "pycharm": {
     "name": "#%%\n"
    }
   }
  },
  {
   "cell_type": "code",
   "execution_count": 51,
   "outputs": [
    {
     "name": "stdout",
     "output_type": "stream",
     "text": [
      "Wrote the Covariant file at 19:35\n"
     ]
    }
   ],
   "source": [
    "project_directory = r\"Z:\\UKB\\GeographicID\\Paper Data Extraction\\SB_Papers\\SW_GWAS\\GWAScompare\"\n",
    "\n",
    "disease_df = with_residuals[exposure_headers]\n",
    "disease_df.columns = [h.upper() for h in exposure_headers]\n",
    "disease_df = disease_df.replace({np.NaN: \"NA\"}, regex=True)\n",
    "disease_df = disease_df.astype(str)\n",
    "disease_df.to_csv(Path(project_directory, \"ResCompareExposures.txt\"), sep=\" \", index=False)\n",
    "print(f\"Wrote the Exposures file at {terminal_time()}\")\n",
    "\n",
    "covariant_df = with_residuals[covariant_headers]\n",
    "covariant_df.columns = [h.upper() for h in covariant_headers]\n",
    "covariant_df = covariant_df.replace({np.NaN: \"NA\"}, regex=True)\n",
    "covariant_df = covariant_df.astype(str)\n",
    "covariant_df.to_csv(Path(project_directory, \"ResCompareCovariant.txt\"), sep=\" \", index=False)\n",
    "print(f\"Wrote the Covariant file at {terminal_time()}\")"
   ],
   "metadata": {
    "collapsed": false,
    "pycharm": {
     "name": "#%%\n"
    }
   }
  },
  {
   "cell_type": "code",
   "execution_count": 53,
   "outputs": [
    {
     "name": "stdout",
     "output_type": "stream",
     "text": [
      "FID\n",
      "IID\n",
      "SKINCOLOUR\n",
      "HAIRCOLOUR\n",
      "MILKCONSUMPTION\n",
      "MILKCONSUMPTION_RES\n",
      "HAIRCOLOUR_RES\n",
      "SKINCOLOUR_RES\n",
      "\n",
      "FID\n",
      "IID\n",
      "GENDER\n",
      "PC1\n",
      "PC2\n",
      "PC3\n",
      "PC4\n",
      "PC5\n",
      "PC6\n",
      "PC7\n",
      "PC8\n",
      "PC9\n",
      "PC10\n",
      "PC11\n",
      "PC12\n",
      "PC13\n",
      "PC14\n",
      "PC15\n",
      "PC16\n",
      "PC17\n",
      "PC18\n",
      "PC19\n",
      "PC20\n",
      "PC21\n",
      "PC22\n",
      "PC23\n",
      "PC24\n",
      "PC25\n",
      "PC26\n",
      "PC27\n",
      "PC28\n",
      "PC29\n",
      "PC30\n",
      "PC31\n",
      "PC32\n",
      "PC33\n",
      "PC34\n",
      "PC35\n",
      "PC36\n",
      "PC37\n",
      "PC38\n",
      "PC39\n",
      "PC40\n"
     ]
    }
   ],
   "source": [
    "for col in disease_df.columns:\n",
    "    print(col)\n",
    "print(\"\")\n",
    "for cov in covariant_df.columns:\n",
    "    print(cov)"
   ],
   "metadata": {
    "collapsed": false,
    "pycharm": {
     "name": "#%%\n"
    }
   }
  }
 ],
 "metadata": {
  "kernelspec": {
   "display_name": "Python 3",
   "language": "python",
   "name": "python3"
  },
  "language_info": {
   "codemirror_mode": {
    "name": "ipython",
    "version": 2
   },
   "file_extension": ".py",
   "mimetype": "text/x-python",
   "name": "python",
   "nbconvert_exporter": "python",
   "pygments_lexer": "ipython2",
   "version": "2.7.6"
  }
 },
 "nbformat": 4,
 "nbformat_minor": 0
}