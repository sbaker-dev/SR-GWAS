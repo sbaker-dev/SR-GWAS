{
 "cells": [
  {
   "cell_type": "markdown",
   "source": [
    "### Purpose\n",
    "\n",
    "For the analysis we need to construct some phenotypic and covariant data. This notebook loads\n",
    "\n",
    "* PCS's from the MRC IEU UK Biobank file\n",
    "* Removal ID's, so we exclude those whom have removed consent\n",
    "* A linker between our application of 41382 to the IEU common\n",
    "* Data extracted from application 41382 on BMI, gender and YoB\n",
    "\n",
    "Then combines the PC's from the IEU to your application, and converts our IID's to the IID type of the genetic file"
   ],
   "metadata": {
    "collapsed": false,
    "pycharm": {
     "name": "#%% md\n"
    }
   }
  },
  {
   "cell_type": "code",
   "execution_count": 26,
   "metadata": {
    "collapsed": true,
    "pycharm": {
     "is_executing": false,
     "name": "#%%\n"
    }
   },
   "outputs": [
    {
     "name": "stdout",
     "text": [
      "Set Environment 10:38\n"
     ],
     "output_type": "stream"
    }
   ],
   "source": [
    "from miscSupports import terminal_time, flip_list\n",
    "from csvObject import CsvObject, write_csv\n",
    "import statsmodels.formula.api as smf\n",
    "from pathlib import Path\n",
    "import pandas as pd\n",
    "\n",
    "common_path = r\"Z:\\UKB\\GeographicID\\Paper Data Extraction\\Construction Files\"\n",
    "project_path = r\"Z:\\UKB\\GeographicID\\Paper Data Extraction\\SB_Papers\\SW_GWAS\"\n",
    "\n",
    "print(f\"Set Environment {terminal_time()}\")"
   ]
  },
  {
   "cell_type": "code",
   "execution_count": 2,
   "outputs": [
    {
     "name": "stdout",
     "text": [
      "Loaded required files 9:59\n"
     ],
     "output_type": "stream"
    }
   ],
   "source": [
    "# Load the principle components, set them as IID: [PC1, PC2, ... PC(N)]\n",
    "pca_file = CsvObject(Path(common_path, \"IEU_PCs_1_40.txt\"), file_headers=False)\n",
    "pc_dict = {row[0]: [r for r in row[2:] if r != \"\"] for row in pca_file.row_data}\n",
    "\n",
    "# Load removal file for exclusion on IID\n",
    "removal_ids = CsvObject(Path(common_path, \"UKB_Withdrawal_IDs.csv\"), set_columns=True)\n",
    "\n",
    "# Set a linker between 41382: IEU Common\n",
    "linker = {app: ieu for ieu, app in CsvObject(Path(common_path, \"Linker.csv\")).row_data}\n",
    "\n",
    "# Load phenotype (BMI), gender, and year of birth from the data extraction from 41382\n",
    "variables = CsvObject(Path(project_path, \"Variables.csv\"))\n",
    "\n",
    "print(f\"Loaded required files {terminal_time()}\")"
   ],
   "metadata": {
    "collapsed": false,
    "pycharm": {
     "name": "#%%\n",
     "is_executing": false
    }
   }
  },
  {
   "cell_type": "code",
   "execution_count": 32,
   "outputs": [
    {
     "name": "stdout",
     "text": [
      "Set IID file 10:45\n"
     ],
     "output_type": "stream"
    }
   ],
   "source": [
    "analysis_rows = []\n",
    "for iid, gender, yob, phenotype in variables.row_data:\n",
    "    \n",
    "    # If the iid is not set as withdrawn and is within the linker file between our applications\n",
    "    if (iid not in removal_ids[0]) and (iid in linker.keys()) and (gender != \"\") and (yob != \"\") and (phenotype != \"\"):\n",
    "        # Extract the PC via the linker and then append to the output container\n",
    "        pcs = pc_dict[linker[iid]]\n",
    "        analysis_rows.append([linker[iid], linker[iid], phenotype, gender, yob] + pcs)\n",
    "        \n",
    "print(f\"Set IID file {terminal_time()}\")"
   ],
   "metadata": {
    "collapsed": false,
    "pycharm": {
     "name": "#%%\n",
     "is_executing": false
    }
   }
  },
  {
   "cell_type": "code",
   "execution_count": 34,
   "outputs": [
    {
     "name": "stdout",
     "text": [
      "Header length is 45: Row length is 45\n"
     ],
     "output_type": "stream"
    }
   ],
   "source": [
    "# Validate header length == row length\n",
    "headers = [\"FID\", \"IID\", \"BMI\", \"Gender\", \"YoB\"] + [f\"PC{i}\" for i in range(1, 41)]\n",
    "print(f\"Header length is {len(headers)}: Row length is {len(analysis_rows[0])}\")"
   ],
   "metadata": {
    "collapsed": false,
    "pycharm": {
     "name": "#%%\n",
     "is_executing": false
    }
   }
  },
  {
   "cell_type": "code",
   "execution_count": 35,
   "outputs": [
    {
     "name": "stdout",
     "text": [
      "Output written at 10:55\n"
     ],
     "output_type": "stream"
    }
   ],
   "source": [
    "# Write the file to disk\n",
    "write_csv(project_path, \"Analysis\", headers, analysis_rows)\n",
    "print(f\"Output written at {terminal_time()}\")"
   ],
   "metadata": {
    "collapsed": false,
    "pycharm": {
     "name": "#%%\n",
     "is_executing": false
    }
   }
  },
  {
   "cell_type": "markdown",
   "source": [
    "### Create phenotypic residuals\n",
    "\n",
    "For several of our analysis runs we will need the residualised phenotype, so we generate that here"
   ],
   "metadata": {
    "collapsed": false
   }
  },
  {
   "cell_type": "code",
   "execution_count": 36,
   "outputs": [
    {
     "name": "stdout",
     "text": [
      "Set analysis data-frame 10:58\n"
     ],
     "output_type": "stream"
    }
   ],
   "source": [
    "# Load analysis sample\n",
    "analysis = pd.read_csv(Path(project_path, \"Analysis.csv\"))\n",
    "print(f\"Set analysis data-frame {terminal_time()}\")"
   ],
   "metadata": {
    "collapsed": false,
    "pycharm": {
     "name": "#%%\n",
     "is_executing": false
    }
   }
  },
  {
   "cell_type": "code",
   "execution_count": 37,
   "outputs": [
    {
     "name": "stdout",
     "text": [
      "Set residualised phenotype 11:6\n"
     ],
     "output_type": "stream"
    }
   ],
   "source": [
    "# Set the formula as phenotype ~ all other explanatory variables then run the OLS\n",
    "formula = \"BMI~\" + \"+\".join([h for h in analysis.columns[3:]])\n",
    "result = smf.ols(formula=formula, data=analysis)\n",
    "print(f\"Set residualised phenotype {terminal_time()}\")"
   ],
   "metadata": {
    "collapsed": false,
    "pycharm": {
     "name": "#%%\n",
     "is_executing": false
    }
   }
  },
  {
   "cell_type": "code",
   "execution_count": 40,
   "outputs": [
    {
     "name": "stdout",
     "text": [
      "Written residualised phenotypes 11:39\n"
     ],
     "output_type": "stream"
    }
   ],
   "source": [
    "fid = analysis[\"FID\"].tolist()\n",
    "iid = analysis[\"IID\"].tolist()\n",
    "res = result.fit().resid.tolist()\n",
    "\n",
    "write_csv(project_path, \"PhenoResiduals\", [\"FID\", \"IID\", \"RES\"], flip_list([fid, iid, res]))\n",
    "print(f\"Written residualised phenotypes {terminal_time()}\")"
   ],
   "metadata": {
    "collapsed": false,
    "pycharm": {
     "name": "#%%\n",
     "is_executing": false
    }
   }
  }
 ],
 "metadata": {
  "kernelspec": {
   "display_name": "Python 3",
   "language": "python",
   "name": "python3"
  },
  "language_info": {
   "codemirror_mode": {
    "name": "ipython",
    "version": 2
   },
   "file_extension": ".py",
   "mimetype": "text/x-python",
   "name": "python",
   "nbconvert_exporter": "python",
   "pygments_lexer": "ipython2",
   "version": "2.7.6"
  },
  "pycharm": {
   "stem_cell": {
    "cell_type": "raw",
    "source": [],
    "metadata": {
     "collapsed": false
    }
   }
  }
 },
 "nbformat": 4,
 "nbformat_minor": 0
}