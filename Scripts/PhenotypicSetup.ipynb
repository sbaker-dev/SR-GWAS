{
 "cells": [
  {
   "cell_type": "markdown",
   "source": [
    "### Purpose\n",
    "\n",
    "For the analysis we need to construct some phenotypic and covariant data. This notebook loads\n",
    "\n",
    "* PCS's from the MRC IEU UK Biobank file\n",
    "* Removal ID's, so we exclude those whom have removed consent\n",
    "* A linker between our application of 41382 to the IEU common\n",
    "* Data extracted from application 41382 on BMI, gender and YoB\n",
    "\n",
    "Then combines the PC's from the IEU to your application, and converts our IID's to the IID type of the genetic file"
   ],
   "metadata": {
    "collapsed": false,
    "pycharm": {
     "name": "#%% md\n"
    }
   }
  },
  {
   "cell_type": "code",
   "execution_count": 1,
   "metadata": {
    "collapsed": true,
    "pycharm": {
     "is_executing": false,
     "name": "#%%\n"
    }
   },
   "outputs": [
    {
     "name": "stdout",
     "text": [
      "Set Environment 15:59\n"
     ],
     "output_type": "stream"
    }
   ],
   "source": [
    "from csvObject import CsvObject, write_csv\n",
    "from miscSupports import terminal_time\n",
    "import statsmodels.formula.api as smf\n",
    "from pathlib import Path\n",
    "import pandas as pd\n",
    "\n",
    "common_path = r\"Z:\\UKB\\GeographicID\\Paper Data Extraction\\Construction Files\"\n",
    "project_path = r\"Z:\\UKB\\GeographicID\\Paper Data Extraction\\SB_Papers\\SW_GWAS\"\n",
    "\n",
    "print(f\"Set Environment {terminal_time()}\")"
   ]
  },
  {
   "cell_type": "code",
   "execution_count": 2,
   "outputs": [
    {
     "name": "stdout",
     "text": [
      "Loaded required files 9:59\n"
     ],
     "output_type": "stream"
    }
   ],
   "source": [
    "# Load the principle components, set them as IID: [PC1, PC2, ... PC(N)]\n",
    "pca_file = CsvObject(Path(common_path, \"IEU_PCs_1_40.txt\"), file_headers=False)\n",
    "pc_dict = {row[0]: [r for r in row[2:] if r != \"\"] for row in pca_file.row_data}\n",
    "\n",
    "# Load removal file for exclusion on IID\n",
    "removal_ids = CsvObject(Path(common_path, \"UKB_Withdrawal_IDs.csv\"), set_columns=True)\n",
    "\n",
    "# Set a linker between 41382: IEU Common\n",
    "linker = {app: ieu for ieu, app in CsvObject(Path(common_path, \"Linker.csv\")).row_data}\n",
    "\n",
    "# Load phenotype (BMI), gender, and year of birth from the data extraction from 41382\n",
    "variables = CsvObject(Path(project_path, \"Variables.csv\"))\n",
    "\n",
    "print(f\"Loaded required files {terminal_time()}\")"
   ],
   "metadata": {
    "collapsed": false,
    "pycharm": {
     "name": "#%%\n",
     "is_executing": false
    }
   }
  },
  {
   "cell_type": "code",
   "execution_count": 32,
   "outputs": [
    {
     "name": "stdout",
     "text": [
      "Set IID file 10:45\n"
     ],
     "output_type": "stream"
    }
   ],
   "source": [
    "analysis_rows = []\n",
    "for iid, gender, yob, phenotype in variables.row_data:\n",
    "    \n",
    "    # If the iid is not set as withdrawn and is within the linker file between our applications\n",
    "    if (iid not in removal_ids[0]) and (iid in linker.keys()) and (gender != \"\") and (yob != \"\") and (phenotype != \"\"):\n",
    "        # Extract the PC via the linker and then append to the output container\n",
    "        pcs = pc_dict[linker[iid]]\n",
    "        analysis_rows.append([linker[iid], linker[iid], phenotype, gender, yob] + pcs)\n",
    "        \n",
    "print(f\"Set IID file {terminal_time()}\")"
   ],
   "metadata": {
    "collapsed": false,
    "pycharm": {
     "name": "#%%\n",
     "is_executing": false
    }
   }
  },
  {
   "cell_type": "code",
   "execution_count": 34,
   "outputs": [
    {
     "name": "stdout",
     "text": [
      "Header length is 45: Row length is 45\n"
     ],
     "output_type": "stream"
    }
   ],
   "source": [
    "# Validate header length == row length\n",
    "headers = [\"FID\", \"IID\", \"BMI\", \"Gender\", \"YoB\"] + [f\"PC{i}\" for i in range(1, 41)]\n",
    "print(f\"Header length is {len(headers)}: Row length is {len(analysis_rows[0])}\")"
   ],
   "metadata": {
    "collapsed": false,
    "pycharm": {
     "name": "#%%\n",
     "is_executing": false
    }
   }
  },
  {
   "cell_type": "code",
   "execution_count": 35,
   "outputs": [
    {
     "name": "stdout",
     "text": [
      "Output written at 10:55\n"
     ],
     "output_type": "stream"
    }
   ],
   "source": [
    "# Write the file to disk\n",
    "write_csv(project_path, \"Analysis\", headers, analysis_rows)\n",
    "print(f\"Output written at {terminal_time()}\")"
   ],
   "metadata": {
    "collapsed": false,
    "pycharm": {
     "name": "#%%\n",
     "is_executing": false
    }
   }
  },
  {
   "cell_type": "markdown",
   "source": [
    "### Create phenotype residuals\n",
    "\n",
    "For several of our analysis runs we will need the residualised phenotype. This demonstrates the example of this dataset \n",
    "and writes it out for a comparision to the GWAS pipeline."
   ],
   "metadata": {
    "collapsed": false
   }
  },
  {
   "cell_type": "code",
   "execution_count": 3,
   "outputs": [
    {
     "name": "stdout",
     "text": [
      "Set analysis data-frame 16:1\n"
     ],
     "output_type": "stream"
    }
   ],
   "source": [
    "# Load analysis sample\n",
    "analysis = pd.read_csv(Path(project_path, \"Analysis.csv\"))\n",
    "print(f\"Set analysis data-frame {terminal_time()}\")"
   ],
   "metadata": {
    "collapsed": false,
    "pycharm": {
     "name": "#%%\n",
     "is_executing": false
    }
   }
  },
  {
   "cell_type": "code",
   "execution_count": 9,
   "outputs": [
    {
     "name": "stdout",
     "text": [
      "                            OLS Regression Results                            \n",
      "==============================================================================\n",
      "Dep. Variable:                    BMI   R-squared:                       0.017\n",
      "Model:                            OLS   Adj. R-squared:                  0.017\n",
      "Method:                 Least Squares   F-statistic:                     203.2\n",
      "Date:                Mon, 17 May 2021   Prob (F-statistic):               0.00\n",
      "Time:                        16:04:15   Log-Likelihood:            -1.4472e+06\n",
      "No. Observations:              486262   AIC:                         2.895e+06\n",
      "Df Residuals:                  486219   BIC:                         2.895e+06\n",
      "Df Model:                          42                                         \n",
      "Covariance Type:            nonrobust                                         \n",
      "==============================================================================\n",
      "                 coef    std err          t      P>|t|      [0.025      0.975]\n",
      "------------------------------------------------------------------------------\n",
      "Intercept     84.1879      1.657     50.815      0.000      80.941      87.435\n",
      "Gender         0.7466      0.014     54.580      0.000       0.720       0.773\n",
      "YoB           -0.0293      0.001    -34.475      0.000      -0.031      -0.028\n",
      "PC1            0.0046      0.000     35.892      0.000       0.004       0.005\n",
      "PC2            0.0093      0.000     38.069      0.000       0.009       0.010\n",
      "PC3            0.0066      0.000     14.329      0.000       0.006       0.007\n",
      "PC4            0.0078      0.001     11.876      0.000       0.007       0.009\n",
      "PC5            0.0160      0.001     17.749      0.000       0.014       0.018\n",
      "PC6            0.0067      0.001      4.907      0.000       0.004       0.009\n",
      "PC7            0.0104      0.001      7.598      0.000       0.008       0.013\n",
      "PC8            0.0067      0.001      4.716      0.000       0.004       0.009\n",
      "PC9           -0.0104      0.002     -6.760      0.000      -0.013      -0.007\n",
      "PC10           0.0106      0.002      6.404      0.000       0.007       0.014\n",
      "PC11           0.0142      0.002      8.080      0.000       0.011       0.018\n",
      "PC12          -0.0102      0.002     -5.288      0.000      -0.014      -0.006\n",
      "PC13           0.0101      0.002      4.986      0.000       0.006       0.014\n",
      "PC14           0.0023      0.002      1.134      0.257      -0.002       0.006\n",
      "PC15          -0.0097      0.002     -4.286      0.000      -0.014      -0.005\n",
      "PC16          -0.0081      0.002     -3.678      0.000      -0.012      -0.004\n",
      "PC17          -0.0104      0.002     -4.271      0.000      -0.015      -0.006\n",
      "PC18           0.0058      0.002      2.414      0.016       0.001       0.010\n",
      "PC19          -0.0045      0.002     -1.852      0.064      -0.009       0.000\n",
      "PC20           0.0321      0.002     13.217      0.000       0.027       0.037\n",
      "PC21           0.0231      0.002      9.467      0.000       0.018       0.028\n",
      "PC22          -0.0090      0.002     -3.672      0.000      -0.014      -0.004\n",
      "PC23          -0.0195      0.002     -7.984      0.000      -0.024      -0.015\n",
      "PC24           0.0119      0.002      4.827      0.000       0.007       0.017\n",
      "PC25           0.0199      0.002      8.052      0.000       0.015       0.025\n",
      "PC26           0.0107      0.002      4.311      0.000       0.006       0.015\n",
      "PC27          -0.0084      0.002     -3.394      0.001      -0.013      -0.004\n",
      "PC28           0.0031      0.002      1.279      0.201      -0.002       0.008\n",
      "PC29          -0.0031      0.002     -1.236      0.217      -0.008       0.002\n",
      "PC30          -0.0068      0.002     -2.785      0.005      -0.012      -0.002\n",
      "PC31          -0.0024      0.002     -0.968      0.333      -0.007       0.002\n",
      "PC32          -0.0081      0.002     -3.260      0.001      -0.013      -0.003\n",
      "PC33           0.0069      0.002      2.810      0.005       0.002       0.012\n",
      "PC34          -0.0168      0.002     -6.806      0.000      -0.022      -0.012\n",
      "PC35           0.0066      0.002      2.654      0.008       0.002       0.011\n",
      "PC36           0.0013      0.002      0.505      0.613      -0.004       0.006\n",
      "PC37          -0.0073      0.002     -2.943      0.003      -0.012      -0.002\n",
      "PC38           0.0118      0.002      4.726      0.000       0.007       0.017\n",
      "PC39          -0.0187      0.002     -7.509      0.000      -0.024      -0.014\n",
      "PC40           0.0113      0.002      4.548      0.000       0.006       0.016\n",
      "==============================================================================\n",
      "Omnibus:                   102255.146   Durbin-Watson:                   2.005\n",
      "Prob(Omnibus):                  0.000   Jarque-Bera (JB):           256437.885\n",
      "Skew:                           1.160   Prob(JB):                         0.00\n",
      "Kurtosis:                       5.698   Cond. No.                     4.75e+05\n",
      "==============================================================================\n",
      "\n",
      "Notes:\n",
      "[1] Standard Errors assume that the covariance matrix of the errors is correctly specified.\n",
      "[2] The condition number is large, 4.75e+05. This might indicate that there are\n",
      "strong multicollinearity or other numerical problems.\n",
      "Set residualised phenotype 16:4\n"
     ],
     "output_type": "stream"
    }
   ],
   "source": [
    "# Set the formula as phenotype ~ all other explanatory variables then run the OLS\n",
    "formula = \"BMI~\" + \"+\".join([h for h in analysis.columns[3:]])\n",
    "result = smf.ols(formula=formula, data=analysis).fit()\n",
    "print(result.summary())\n",
    "print(f\"Set residualised phenotype {terminal_time()}\")"
   ],
   "metadata": {
    "collapsed": false,
    "pycharm": {
     "name": "#%%\n",
     "is_executing": false
    }
   }
  },
  {
   "cell_type": "code",
   "execution_count": 10,
   "outputs": [
    {
     "name": "stdout",
     "text": [
      "               FID         IID      BMI  Gender   YoB       PC1         PC2  \\\n",
      "0       IEU6498273  IEU6498273  35.6791       1  1956 -11.43620    4.216290   \n",
      "1       IEU2766806  IEU2766806  38.4072       0  1943  -7.16004    2.184030   \n",
      "2       IEU4946230  IEU4946230  24.8410       0  1947 -11.37910    0.741912   \n",
      "3       IEU6907277  IEU6907277  26.3059       0  1940 -11.85220    3.739760   \n",
      "4       IEU4159466  IEU4159466  24.5399       0  1955 -12.37480    1.926890   \n",
      "...            ...         ...      ...     ...   ...       ...         ...   \n",
      "486257  IEU3797450  IEU3797450  29.6208       1  1949 -13.76680    4.021320   \n",
      "486258  IEU6382416  IEU6382416  22.7765       0  1960 -11.37570    2.297150   \n",
      "486259  IEU5291816  IEU5291816  34.6746       1  1940 -13.35250    2.187330   \n",
      "486260  IEU7325037  IEU7325037  27.6097       1  1946  90.58530 -136.197000   \n",
      "486261  IEU6604467  IEU6604467  29.7250       1  1945 -13.15790    5.486830   \n",
      "\n",
      "              PC3       PC4        PC5  ...      PC32      PC33      PC34  \\\n",
      "0       -1.056660   3.02576  -2.330810  ...  2.338570  4.479910 -1.508890   \n",
      "1       -0.287660   1.41962  -2.022090  ... -0.022724  3.061690 -1.409740   \n",
      "2        0.225818   3.93033  -0.829082  ...  0.114012  0.893226 -2.193060   \n",
      "3       -4.109090   5.47364  13.706900  ... -0.595582  1.073270  1.397460   \n",
      "4       -3.918460   1.31633  -2.272280  ... -3.087590  4.758930 -0.305606   \n",
      "...           ...       ...        ...  ...       ...       ...       ...   \n",
      "486257  -2.039210   5.18607  10.962600  ... -1.139760  0.149075 -0.078556   \n",
      "486258  -0.439591  -2.43007  -5.113470  ... -4.068140  1.761200  2.092090   \n",
      "486259  -0.441973  -0.09858  -1.050050  ... -2.092310  1.979770  0.956744   \n",
      "486260  83.252600  25.71520  -4.127430  ...  0.728129 -0.758250 -3.399150   \n",
      "486261  -1.784810  10.90430  21.082900  ... -0.063377 -0.577206  0.930075   \n",
      "\n",
      "            PC35      PC36      PC37      PC38      PC39      PC40     resBMI  \n",
      "0      -3.755750  0.617950 -0.035645  1.917020  5.174630 -2.447350   8.151475  \n",
      "1      -1.710260  2.917180 -1.762820  1.830440 -2.428420 -1.083850  10.910054  \n",
      "2      -0.241491 -3.182080 -2.724940  0.423955  1.944250 -0.546230  -2.538434  \n",
      "3       1.468030 -0.163997 -3.026390 -2.689610 -1.256600  0.656872  -1.543807  \n",
      "4      -0.821710  0.878890  0.103284 -7.323030 -1.377630  1.298340  -1.977236  \n",
      "...          ...       ...       ...       ...       ...       ...        ...  \n",
      "486257 -4.842820 -6.343450 -3.159000  2.295140 -2.722820  2.389030   1.600320  \n",
      "486258 -1.039080 -0.920980  0.555640 -1.012550  2.648910 -0.613759  -3.640768  \n",
      "486259  1.713030  1.284140  3.537260  1.199910 -1.719280 -0.665545   6.406163  \n",
      "486260  1.352940  0.422481 -2.689270  2.214220  0.060725 -1.250970  -0.215032  \n",
      "486261  3.967790  3.919180 -2.785190 -4.181970 -0.285073 -1.382750   1.195356  \n",
      "\n",
      "[486262 rows x 46 columns]\n"
     ],
     "output_type": "stream"
    }
   ],
   "source": [
    "with_res = pd.concat([analysis, pd.DataFrame(result.resid, columns=[\"resBMI\"])], axis=1)\n",
    "print(with_res)"
   ],
   "metadata": {
    "collapsed": false,
    "pycharm": {
     "name": "#%%\n",
     "is_executing": false
    }
   }
  },
  {
   "cell_type": "code",
   "execution_count": 12,
   "outputs": [
    {
     "name": "stdout",
     "text": [
      "Written residualised phenotypes 16:15\n"
     ],
     "output_type": "stream"
    }
   ],
   "source": [
    "with_res.to_csv(Path(project_path, \"PhenoResiduals40PC.csv\"))\n",
    "print(f\"Written residualised phenotypes {terminal_time()}\")"
   ],
   "metadata": {
    "collapsed": false,
    "pycharm": {
     "name": "#%%\n",
     "is_executing": false
    }
   }
  }
 ],
 "metadata": {
  "kernelspec": {
   "display_name": "Python 3",
   "language": "python",
   "name": "python3"
  },
  "language_info": {
   "codemirror_mode": {
    "name": "ipython",
    "version": 2
   },
   "file_extension": ".py",
   "mimetype": "text/x-python",
   "name": "python",
   "nbconvert_exporter": "python",
   "pygments_lexer": "ipython2",
   "version": "2.7.6"
  },
  "pycharm": {
   "stem_cell": {
    "cell_type": "raw",
    "source": [],
    "metadata": {
     "collapsed": false
    }
   }
  }
 },
 "nbformat": 4,
 "nbformat_minor": 0
}